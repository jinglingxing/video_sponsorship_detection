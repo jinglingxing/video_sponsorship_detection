{
 "cells": [
  {
   "cell_type": "code",
   "execution_count": 2,
   "id": "1e1a02b6",
   "metadata": {},
   "outputs": [],
   "source": [
    "from tensorflow import keras\n",
    "from typing import List\n",
    "from keras.preprocessing.text import Tokenizer\n",
    "import nltk\n",
    "import os\n",
    "import pandas as pd"
   ]
  },
  {
   "cell_type": "code",
   "execution_count": 6,
   "id": "7f459d67",
   "metadata": {},
   "outputs": [
    {
     "data": {
      "text/plain": [
       "'/Users/jinlingxing/Projects/Kaggle/sb-mirror/sponsor_dataframe.csv'"
      ]
     },
     "execution_count": 6,
     "metadata": {},
     "output_type": "execute_result"
    }
   ],
   "source": [
    "path = os.getcwd()\n",
    "src_folder = os.path.abspath(os.path.join(path, os.pardir))\n",
    "project_folder = os.path.abspath(os.path.join(src_folder, os.pardir))\n",
    "outside_folder = os.path.abspath(os.path.join(project_folder, os.pardir))\n",
    "data_folder = outside_folder + '/sb-mirror'\n",
    "sponsor_df_save_path = data_folder + '/sponsor_dataframe.csv'\n",
    "sponsor_df_save_path"
   ]
  },
  {
   "cell_type": "code",
   "execution_count": 10,
   "id": "5c4af93c",
   "metadata": {},
   "outputs": [
    {
     "data": {
      "text/html": [
       "<div>\n",
       "<style scoped>\n",
       "    .dataframe tbody tr th:only-of-type {\n",
       "        vertical-align: middle;\n",
       "    }\n",
       "\n",
       "    .dataframe tbody tr th {\n",
       "        vertical-align: top;\n",
       "    }\n",
       "\n",
       "    .dataframe thead th {\n",
       "        text-align: right;\n",
       "    }\n",
       "</style>\n",
       "<table border=\"1\" class=\"dataframe\">\n",
       "  <thead>\n",
       "    <tr style=\"text-align: right;\">\n",
       "      <th></th>\n",
       "      <th>Unnamed: 0</th>\n",
       "      <th>videoID</th>\n",
       "      <th>Transcript</th>\n",
       "      <th>channelID</th>\n",
       "      <th>title</th>\n",
       "      <th>published</th>\n",
       "      <th>sponsored</th>\n",
       "    </tr>\n",
       "  </thead>\n",
       "  <tbody>\n",
       "    <tr>\n",
       "      <th>0</th>\n",
       "      <td>0</td>\n",
       "      <td>GaGphoDeT2w</td>\n",
       "      <td>in the anime Community we make up a lot of wor...</td>\n",
       "      <td>UCr8XdVBXUrjEYX3nxobTmIQ</td>\n",
       "      <td>Sasuke is the REAL Hokage?!</td>\n",
       "      <td>0.000000e+00</td>\n",
       "      <td>False</td>\n",
       "    </tr>\n",
       "    <tr>\n",
       "      <th>1</th>\n",
       "      <td>1</td>\n",
       "      <td>JzB7yS9t1YE</td>\n",
       "      <td>[MUSIC PLAYING] LILY PENG: Hi everybody. My na...</td>\n",
       "      <td>UC_x5XG1OV2P6uZZ5FSM9Ttw</td>\n",
       "      <td>Bringing AI and machine learning innovations t...</td>\n",
       "      <td>1.525910e+09</td>\n",
       "      <td>False</td>\n",
       "    </tr>\n",
       "    <tr>\n",
       "      <th>2</th>\n",
       "      <td>2</td>\n",
       "      <td>9g_Q0QPsOtI</td>\n",
       "      <td>[Music] hey guys welcome back to another video...</td>\n",
       "      <td>UCQ2k71p7MJKU9iPpKfSWYOA</td>\n",
       "      <td>Turning My OC into a Desktop Buddy (Shimeji)! ...</td>\n",
       "      <td>0.000000e+00</td>\n",
       "      <td>False</td>\n",
       "    </tr>\n",
       "    <tr>\n",
       "      <th>3</th>\n",
       "      <td>3</td>\n",
       "      <td>P6aUSrw03bE</td>\n",
       "      <td>this video was sponsored by morningbrew hey ha...</td>\n",
       "      <td>UCRG_N2uO405WO4P3Ruef9NA</td>\n",
       "      <td>Phone labels: The EU's best idea yet</td>\n",
       "      <td>1.662077e+09</td>\n",
       "      <td>True</td>\n",
       "    </tr>\n",
       "    <tr>\n",
       "      <th>4</th>\n",
       "      <td>4</td>\n",
       "      <td>RPO57PLwdY0</td>\n",
       "      <td>foreign [Music] welcome to audit the audit whe...</td>\n",
       "      <td>UCc-0YpRpqgA5lPTpSQ5uo-Q</td>\n",
       "      <td>This Cop Doesn't Understand Basic Civilian Rights</td>\n",
       "      <td>0.000000e+00</td>\n",
       "      <td>True</td>\n",
       "    </tr>\n",
       "    <tr>\n",
       "      <th>...</th>\n",
       "      <td>...</td>\n",
       "      <td>...</td>\n",
       "      <td>...</td>\n",
       "      <td>...</td>\n",
       "      <td>...</td>\n",
       "      <td>...</td>\n",
       "      <td>...</td>\n",
       "    </tr>\n",
       "    <tr>\n",
       "      <th>1367</th>\n",
       "      <td>1367</td>\n",
       "      <td>yP-lYJm8_bQ</td>\n",
       "      <td>ladies and gentlemen we have lost yet another ...</td>\n",
       "      <td>NaN</td>\n",
       "      <td>NaN</td>\n",
       "      <td>0.000000e+00</td>\n",
       "      <td>True</td>\n",
       "    </tr>\n",
       "    <tr>\n",
       "      <th>1368</th>\n",
       "      <td>1368</td>\n",
       "      <td>7B5cMK7gUVY</td>\n",
       "      <td>I do love it when Brands put an effort into th...</td>\n",
       "      <td>UCwwuSBYcErVlOpveYubHv4g</td>\n",
       "      <td>Goodies from Google! Pixel 7, Pixel 7 Pro, Pix...</td>\n",
       "      <td>0.000000e+00</td>\n",
       "      <td>False</td>\n",
       "    </tr>\n",
       "    <tr>\n",
       "      <th>1369</th>\n",
       "      <td>1369</td>\n",
       "      <td>ScHzMnAcn_s</td>\n",
       "      <td>hello everybody today we're going to talk abou...</td>\n",
       "      <td>NaN</td>\n",
       "      <td>NaN</td>\n",
       "      <td>0.000000e+00</td>\n",
       "      <td>True</td>\n",
       "    </tr>\n",
       "    <tr>\n",
       "      <th>1370</th>\n",
       "      <td>1370</td>\n",
       "      <td>C9p7WO01yA8</td>\n",
       "      <td>this episode of moist Mater brought to you by ...</td>\n",
       "      <td>UCq6VFHwMzcMXbuKyG7SQYIg</td>\n",
       "      <td>Moist Meter | M3GAN</td>\n",
       "      <td>0.000000e+00</td>\n",
       "      <td>True</td>\n",
       "    </tr>\n",
       "    <tr>\n",
       "      <th>1371</th>\n",
       "      <td>1371</td>\n",
       "      <td>xTd8p42fiw8</td>\n",
       "      <td>sometimes you turn on a game just to watch the...</td>\n",
       "      <td>UCNvzD7Z-g64bPXxGzaQaa4g</td>\n",
       "      <td>13 Games That Are NPCs Worst Nightmare</td>\n",
       "      <td>1.460592e+09</td>\n",
       "      <td>False</td>\n",
       "    </tr>\n",
       "  </tbody>\n",
       "</table>\n",
       "<p>1372 rows × 7 columns</p>\n",
       "</div>"
      ],
      "text/plain": [
       "      Unnamed: 0      videoID  \\\n",
       "0              0  GaGphoDeT2w   \n",
       "1              1  JzB7yS9t1YE   \n",
       "2              2  9g_Q0QPsOtI   \n",
       "3              3  P6aUSrw03bE   \n",
       "4              4  RPO57PLwdY0   \n",
       "...          ...          ...   \n",
       "1367        1367  yP-lYJm8_bQ   \n",
       "1368        1368  7B5cMK7gUVY   \n",
       "1369        1369  ScHzMnAcn_s   \n",
       "1370        1370  C9p7WO01yA8   \n",
       "1371        1371  xTd8p42fiw8   \n",
       "\n",
       "                                             Transcript  \\\n",
       "0     in the anime Community we make up a lot of wor...   \n",
       "1     [MUSIC PLAYING] LILY PENG: Hi everybody. My na...   \n",
       "2     [Music] hey guys welcome back to another video...   \n",
       "3     this video was sponsored by morningbrew hey ha...   \n",
       "4     foreign [Music] welcome to audit the audit whe...   \n",
       "...                                                 ...   \n",
       "1367  ladies and gentlemen we have lost yet another ...   \n",
       "1368  I do love it when Brands put an effort into th...   \n",
       "1369  hello everybody today we're going to talk abou...   \n",
       "1370  this episode of moist Mater brought to you by ...   \n",
       "1371  sometimes you turn on a game just to watch the...   \n",
       "\n",
       "                     channelID  \\\n",
       "0     UCr8XdVBXUrjEYX3nxobTmIQ   \n",
       "1     UC_x5XG1OV2P6uZZ5FSM9Ttw   \n",
       "2     UCQ2k71p7MJKU9iPpKfSWYOA   \n",
       "3     UCRG_N2uO405WO4P3Ruef9NA   \n",
       "4     UCc-0YpRpqgA5lPTpSQ5uo-Q   \n",
       "...                        ...   \n",
       "1367                       NaN   \n",
       "1368  UCwwuSBYcErVlOpveYubHv4g   \n",
       "1369                       NaN   \n",
       "1370  UCq6VFHwMzcMXbuKyG7SQYIg   \n",
       "1371  UCNvzD7Z-g64bPXxGzaQaa4g   \n",
       "\n",
       "                                                  title     published  \\\n",
       "0                           Sasuke is the REAL Hokage?!  0.000000e+00   \n",
       "1     Bringing AI and machine learning innovations t...  1.525910e+09   \n",
       "2     Turning My OC into a Desktop Buddy (Shimeji)! ...  0.000000e+00   \n",
       "3                  Phone labels: The EU's best idea yet  1.662077e+09   \n",
       "4     This Cop Doesn't Understand Basic Civilian Rights  0.000000e+00   \n",
       "...                                                 ...           ...   \n",
       "1367                                                NaN  0.000000e+00   \n",
       "1368  Goodies from Google! Pixel 7, Pixel 7 Pro, Pix...  0.000000e+00   \n",
       "1369                                                NaN  0.000000e+00   \n",
       "1370                                Moist Meter | M3GAN  0.000000e+00   \n",
       "1371             13 Games That Are NPCs Worst Nightmare  1.460592e+09   \n",
       "\n",
       "     sponsored  \n",
       "0        False  \n",
       "1        False  \n",
       "2        False  \n",
       "3         True  \n",
       "4         True  \n",
       "...        ...  \n",
       "1367      True  \n",
       "1368     False  \n",
       "1369      True  \n",
       "1370      True  \n",
       "1371     False  \n",
       "\n",
       "[1372 rows x 7 columns]"
      ]
     },
     "execution_count": 10,
     "metadata": {},
     "output_type": "execute_result"
    }
   ],
   "source": [
    "sponsor_df = pd.read_csv(sponsor_df_save_path)\n",
    "sponsor_df "
   ]
  },
  {
   "cell_type": "markdown",
   "id": "0a0d9d43",
   "metadata": {},
   "source": [
    "#### Lemmatization: Stemming, but resulting stems are all valid words"
   ]
  },
  {
   "cell_type": "code",
   "execution_count": 11,
   "id": "4220fb4d",
   "metadata": {},
   "outputs": [],
   "source": [
    "sponsor_lemma = nltk.WordNetLemmatizer()"
   ]
  },
  {
   "cell_type": "code",
   "execution_count": 20,
   "id": "2c8606c2",
   "metadata": {},
   "outputs": [
    {
     "data": {
      "text/plain": [
       "\"in the anime Community we make up a lot of words that just don't exist in the show or the manga words like gin cloak jubidara jubita all things that we as a community either shortened because we talk about it so much or just made up because it sounds cool however things is a community that we make up isn't simply limited to terms we also create entirely fictional and non-real roles for characters and shows what do I mean by that well the most popular example of this would have to be the shadow kage a word for a character who may not be a kage in name but as a kage enroll essentially these Shadow kage do everything but wear the big hat they're usually the second most powerful person in the village at the time whatever respective kage's ruling and while the actual Kake stays in the office and does the paperwork this shadow kage goes off and deals with the actual threats that are threatening the respected Village this term doesn't actually exist it's never stated in Naruto's manga anime the light novels nothing like that we as a fan base just decided Well this guy exists in the shadows and he's doing all the things of agage so those things together and boom shadow kage but honestly we can't be blamed for this if there was only one or two circumstances where a Hokage had a shadowy powerful person also in the village doing the majority of their combat battle work for them than us Corning the term shadowkage and talking about it all the time probably never would have happened however it seems as though every single Kake at least Hokage has had is Shadow Hokage a character who sculpt in the shadows outside of konoha accomplishing the things that the Hokage who's now tasked with running the village can no longer accomplish but just like with all things not all Shadow kages were made equally without some Shadow Hokage The Village would have been in shambles while the Hokage was running and others were a bit more forgettable but the majority of you for a couple of Hokage may not even really understand who the shadow Hokage at the time was and thus that's why we're making today's video to rank and explain every single Shadow ho kage that's ruled over Kono hall now we're not going to be talking about strength here we're gonna be talking about usefulness to the Village well obviously a lot of the role of a shadow Hokage is tied into their combat prowess some Shadow Hokage while being more powerful than others just arguably accomplished a whole lot less than some of the more important ones so without further Ado let's get into every single Shadow Hokage ranked and explained but before we get to ranking or explaining anything guys please for me like this video subscribe to the page and hit that Noti Bell and if you like the sound of this voice ranking and explaining things from anime then you're gonna love my other page the weed Commander where I cover everything from Fullmetal Alchemist Brotherhood down to Avatar but before we get into that guys today we're going to talk about my favorite new sponsor to the page gel Blaster the gel Blaster is this season's perfect gift for the holidays trust me as somebody who grew up playing Airsoft every single weekend with all of my friends this is the next logical step you see instead of incredibly wasteful and bad for the environment plastic BBs gel blasters uses hydradable gel beads meaning that after these beads are fired not only do they explode on contact with a burst of water they're also gone forever no annoying pickup holes in your walls or even BBS that are gonna last forever but you're probably thinking oh this Joe Blaster is just some kids toy it's probably not accurate or anything like that let me show you just how accurate it is so gel blasters just hooked me up with two of The Surge XLS they're Ultra long distance gel blasters and since I have two I figured I should challenge my girlfriend to a little competition of accuracy we are going to be trying to shoot that can all the way over there so we're gonna set our surge xl's to single fire and maximum power one two three oh I have this in the back four five six seven shots I can beat that easily one shot all it takes so what are you guys waiting for you can get ten percent off your own gel Blaster surge XL right now just use a link in my description pinned comment or at checkout use code NC Hammer 10. this holiday season let's get to blasting so the shadow Hokage the second most powerful person in the village at any respective time and even though they may be regarded as the second most powerful person in the village they're rarely to be found in the village this is because the role of a shadow Hokage is usually largely tied into reconnaissance work with this Shadow Hokage going undercover into organizations like the Akatsuki or Kara or even possibly other Villages and while the regular Hokage Keeps The Village running on a day-to-day making appearances doing paperwork the shadow of Hokage makes sure that the village continues to operate on the most basic level the irony of this though however is that shadow hokages usually outlive their car games this could be because Shadow Hokage themselves don't hold as much political power and therefore are less focused on by combatants or because the plot needs the shadow Hokage to become actual Hokage one day regardless of why it happens though there is going to be a little bit of overlap between the hokages and their respective Shadow Hokage in three-ish circumstances there's bleed between different hokages in the same Shadow Hokage but enough about the caveats and rules let's get into the ranking here and just like with a previous video where we're ranking and explaining hokages by usefulness fortunately I'm going to be starting off with a relatively hot take you and listen I don't like doing it either coming in at number six and in last place in terms of Shadow Hokage usefulness would have to be Minato Shadow Hokage now the first question that you're probably going to ask here is well who was Minato Shadow Hokage and it's a complicated question see there's a bunch of different people that you could possibly throw the shadow Hokage to during minato's very very short Hokage [\\xa0__\\xa0] there's a compelling argument to argue that Jiraiya was minute toe Shadow Hokage considering the fact that Jiraiya had trained Minato they had a standing relationship and at this point jariah was outside of the village because mind you Minato became Hokage after the conclusion of the third great Shinobi World War of which Jiraiya was involved in and then left the village after during this time period Droid was kind of in the nasancy phase of keeping an eye on the Akatsuki however at this time the Akatsuki weren't really doing anything it was during the third great snobby World War the yahiko was killed and thus nagato fell into darkness and sort of became pain and thus the Akatsuki was very much in its infant stage because after yahiko's death nagato and Conan went to Obito and said they wanted to go along with his eye of the Moon plan however since Minato was only really Hokage for two or so years jaraya was just keeping an eye on this infant stage at kotsuki and in the early days of the Akatsuki they were more focused on collecting money than collecting tailed beasts and in the early phases of the Akatsuki that's pretty much all they were doing anyways for the majority of the akatsuki's life before he yahiko's death they were just bounty hunters or odd job Runners we were trying to gather enough money together to build a strong organization who would have more weight when pushing for World Peace so obviously while over the two years of minutos Hokage ship dry it was keeping an eye on this version of the Akatsuki and relaying that information back to Minato in the grand scope of what a lot of the Shadow hokages on this list have accomplished it's not that much you could also completely make the argument that fugaku was Minato Shadow Hokage this unfortunately is based on a significant amount more of speculation it also implies that Manito and fugaku had a working relationship which we don't really know see like I stated earlier the see like I stated earlier the shadow Hokage term is usually cast of the second strongest person in the village outside of Minotaur or the Hokage but the Hokage was Minato at the time so was that person Draya or was that person fugaku the reason that I wouldn't consider fugaku the shadow Hokage is because he wasn't really operating in the shadows to accomplish anything for konoha at the moment see obviously forgot who had been instrumental in the third grade Shinobi World War so instrumental that he earns the name fugaku of the wicked eye and once again so instrumental that people believed he would be a shoe-in for the fourth Hokage however after not becoming the fourth Hokage that's when the Uchiha and fugaku started to really plan their coup so while fugaku was operating in the darkness for the future of kodawai wasn't really for the future of konoha rather than just the future of the Uchiha Clan and there's also a third option outside of fukaku or jarayan that's here is it upon retiring after the third grade Shinobi world's War heroism was only probably in his late 50s early 60s and while he was nowhere near the warrior he was when he was in his 20s or his 30s here is in as a former Hokage did enter the Hokage Council where he would undoubtedly assist Minato in all of his Hokage duties that he was new to and as he was in as a former Hokage and the longest standing Hokage in konawas history undoubtedly still had a massive amount of pull within konawa probably still took on a fair amount of the hokage's duties now the duties that heroes in would take on in this role would probably be less towards Shadow Hokage and more towards like counts sole member advisor the reason I'm including him on this list though is because he did manage to do something incredibly important that would fall under the category of Shadow Hokage actions on the night of Naruto's birth and therefore the night of karama's release so here is in was instrumental in making sure Karama didn't wipe out the entire Village while Minato was off fighting against Obito it was basically heroes in vs corrupt and while obviously without Minato a tailpiece bomb probably would have wiped konoha off the map without he was in his Monkey King and mustaf Karama probably would have had to fight against the hokages in the center of konawa but thanks to heroes in he was able to push Kurama out of the village and minimize the amount of casualties but also he and danzo were responsible for making sure the Uchiha weren't sent to go help and also make sure the Kakashi and my guy and the rest of the people who are on their age weren't sent to go help which caused a lot of strife down the line and honestly could be used to argue like basically all of the problems in Naruto started from that point but stretchy staff regardless of whatever three Shadow Hokage you choose during minato's Reign they didn't have a lot of time to operate and therefore their Feats aren't nearly as impressive as the other people on this list and that's the downside whenever we're talking about minato's usefulness as Hokage because obviously while he was incredibly useful prior to being Hokage is Reina sokage was so short when you compare it to everybody else's it's just a matter of numbers and unfortunately that situation is no different for our second entry on the list Toby Rama see when I rank tokakis by usefulness I said Toby Rambo was number one and I stick by that tobirama is for sure the best Hokage in the history of konawa however I don't know if I can say the same for his shadow Hokage because once again just like with minuto it's kind of a toss-up as to who it could have been you see you could very easily make the argument that tobarama shadow Hokage was it was a part of tobiramo's protection detail during the first great Shinobi World War he offered to sacrifice himself so Toby Rama could make it back to the village and tobirama believed that hiroshin was his best possible replacement now you could also possibly make the argument that he either danzo or kagami Uchiha or Toby Rama's Shadow Hokage but we don't know enough about either of them during that time period to really say we do know that kagmeuchiya was said to have genjutsu prai was similar to that of shishui so to assume that he was one of the most powerful people in the village while Toby Rambo was Hokage not crazy but for the same reason that minato's shadow Hokage didn't make it very high on the list you could say the same reason for Toby wrong Toby Rama was Hokage for Max a year it's minimum four years and while all the three people list it were instrumental in the first great Shinobi World War we don't know how and what they did because we don't know that much about that war moving on we have arguably the most known Shadow Hokage out of all of the Shadow Hokage because he exists for almost the entirety of Naruto's duration and while I would argue that as a shadow Hokage he arguably does the most a lot of it was just incredibly evil while some of it could be argued to have helped konoa in the long scope of things a lot of it was flat out evil and actually ended up hurting konoha more than helping so coming in at number four on the shadow Hokage list is stanzo you see Don was obviously heroes in Shadow Hokage and amongst all of the Shadow Hokage he was arguably the most involved in the role of Hokage this is for a myriad of reasons the first of which being that damsa was really the only Shadow Hokage who actively wanted to be the Hokage obviously there were Shadow Hokage like Toby Rama and Sasuke who at one point either became or wanted to be Hokage but danzo woke up every single morning and was like why wasn't it me and therefore every single decision danzo made as a shadow Hokage was to one day instill himself as Hokage so he could leave Kona in the way he wanted to lead it and honestly if we're just talking about plot implications in what the shadow hugage achieved danzo is by far and away number one but if we're actually talking about usefulness and benefit to the leaf well he's coming in at number four let's just go over a quick summation of what danzo achieved while he was in was Hokage and he was operating as our shadow hog obviously one of the first things he did was founding the root in onbu within an Ambu a group of super clandestine in Ultra trained children Warriors essentially Danza would go around around the village and find children who were particularly talented but here's the thing these children actually didn't all have to come from konah often while danzo was out and about he would also find these talented children and bring them back to the root and in the root danzo would essentially physically and emotionally break these children to turn them into perfect killing machines having particularly talented members of the root like Psy kill upwards of a thousand people in assassination missions in the room is no joke people like PSY and tarune are some of the most powerful people in konawa because of danzo's teachings but the reason that the route existed as an Ambu within the Ambu is because the route took on missions that even the Ambu did it see while the Ambu was created for reconnaissance and political assassinations the route listened to donzo and not hirosin and thus the root could do things separately of konawa and thus the root was constrained by the morals or the laws that govern Kona law meaning that if the root wanted you dead you would die the only problem is the root only responded to donzo and acting as a separate entity to konoha job meant that they could also be used against people from Kona law more specifically against terrorism because on two separate occasions danzo tried to use root members to kill herizin so while founding the root might have helped konoha because missions that previously weren't going to be able to be completed because of moral boundaries were now getting completed it's usefulness is also kind of ruined by the fact that they tried to kill the Hokage outside of founding the route danzo was also responsible for killing the uchihas sibo titachi and shis we worked for donzo as spies on the Uchiha for konawa and without Gonzo dipping his fingers into the situation and pushing shiswi and Itachi into a situation where they felt like they had to make a decision between the clan in the village it doesn't take a genius to assume that there probably would have been a diplomatic solution found between Heroes and in the uchihas Cynthia resin was looking for a way to bring the uchihas to the conversation table or the uchias would have gone through with the coup in either one or lost or there would have been peace in konwa regardless because of danto's influence and pushing Itachi over the ledge by threatening Sasuke donzo pushed Itachi into murdering his entire Clan and this is a moot point I would say some people would argue that the elimination of a very powerful threat within the own walls of konoha is a net positive for conewalk While others would argue that diplomacy was still an option between heroes in and fugaku and peace could have been found and Kona hot would have been all the stronger for it and because there's semi-valid arguments on both sides I really can't give this as a plus or a minus to Danza I'm not saying I condone the Uchi Master by the way like Furthest Thing from it but Danto didn't only just have his finger on the pulse of kung Hawk Gonzo also had his finger on the pulse of other nations most importantly the hidden ring see after konoha had sudo gotten its ass kicked by the hidden reign in the Second Great Shinobi World War Gonzo had a little bit of beef and he also viewed them as a legitimate Contender to fight against konowa and thus donzo created a brilliant scheme where he pitted the Akatsuki against Hanzo the Salomon essentially danzo understood that Hanzo was trying to hold on to his power with all of his might and he saw that Hanzo and the Akatsuki if they came together would represent a massively powerful political force so donzo put doubt in hanzo's mind that the Akatsuki once they rise to power in collaboration with Hanzo will steal his power away from him and through this narrative Hanzo and danzo began to work with each other in order to dissemble the Akatsuki and the plan that was created was kidnapping Conan and having yahiko be killed by nagato and while technically Danza was incredibly successful in destabilizing the hidden Reign it no longer exists and nagato would end up killing Hanzo and then taking over the hidden Reign this is also what founded the Akatsuki so I'm gonna go ahead and make that a negative for Danza but Danza was also responsible for the raising of Yamato Gonzo discovered Yamato and orochimaru's lab and essentially raised him and trained him in Wood release and without Yamato being as trained in Wood release as he learned from danzo he wouldn't have been able to help with Naruto's training so net positive but then unfortunately to close the chapter on donzo's role of Shadow Hokage he was the person who told everybody that the nine tails was sealed inside of Naruto so that the entirety of konoha would come together to hate one thing and be unified again after a tragic go back which like bad guy move but also technically stabilized Kona wall so once again kind of one of those like orally gray decisions which is basically dealing with danzo in a nutshell oh and then obviously yes he was the reason that he was in retired as the third Hokage and had Minato step up because he was the one who wanted to continue the third grade Shinobi World War because all the other countries were retreating and konoha was actually making a push back but heroism was like enough people have died I'll take all of the blame of all those deaths onto me and retire so like yes as a shadow Hokage did danzo arguably achieve the most yes but sometimes achieving the most isn't always the best thing when somebody horrible is achieving a lot taking a step out of the moral gray area or coming in with our number three pick jariah now dry has already been on this list for Minotaur but Jiraiya and Danto and Sasuke operate in the realm of having been Shadow hokages for two scepter hokages dry is much more important role as a shadow Hokage however was under Tsunade one because Tsunade was Hokage significantly longer than Minato and two because there was a lot more going on while Tsunade was Hokage then opposed to Minotaur well then again I guess the overlap between Tsunade being Hokage and Draya being alive is only like four maybe five years but he accomplishes a lot in those four maybe five years arguably the most important thing that Uriah did is the shadow Hokage for Tsunade was training in protecting Naruto see the real reason that jaria came back to Trey Naruto is because he understood the akatsuki's plot dry understood after years of tracking the Akatsuki that they were looking for Jin Cherokee dry annoying Naruto is the jinchuriki of the nine tails figured it'd be best if he an incredibly powerful Shinobi was as close to Naruto as possible and by training Naruto to be the most powerful jincherokee he could be while also being present with thwarthy akatsuki's plans and the importance of this cannot be understated the Akatsuki didn't make a move against Naruto for the entire training period he's with Draya because of Jiraiya I mean let's not forget the dryer quite literally scared off Itachi in Kisame simultaneously with Hitachi stating that a battle against him would be Troublesome for both Itachi and Kisame at the same time now as to whether or not this was Hitachi being a good spy and just trying to make sure that Naruto remains safe or if he actually meant it regardless the excuse of being able to use Draya to not go after Naruto for Itachi is important not to mention he was responsible for informing Kono about all the movements of the Akatsuki and while obviously one of the more important things everyone remembers about him is him being sent to the hidden reign in his battle against nagato he was able to collect a massive amount of very important information that without it Naruto probably would have lost against nagato not to mention without Jarius probably never would have even become the Hokage in the first place because without his presence in the battle against Kabuto and Orochimaru Tsunade probably would have just healed orochimaru's arms and then disappeared again so for the task of training and protecting Naruto and keeping konoha informed about the movements of the Akatsuki during the most pivotal time to keep an eye on the Akatsuki yeah dry is going to be pretty high up on the list coming in at number two is somebody I wanted to put at number one but I realized I was being biased so I just now in my head shifted him to number two it's Toby Rama I could every single day of the week make the argument that tuburama is arguably the most important shot of Hokage of all time that could on it but that could very easily be considered a bias take and I'd be lying if I said it wasn't biased a little bit see tobarama was not only incredible Hokage he was a very pivotable Shadow Toby Rama was the first ever Shadow Hokage but honestly for talking about Shadow Hokage as the second in charge to the leader of a clan or a village Toby Rama's been doing it for a long time if we extend the role of Shadow Hokage 2 prior to the Inception of kanawa because we can't really use the fact that konohal wasn't founded against tobirama and we extend that shadow Hokage roll all the way back to when Toby Rama was second in charge of the senju clan as second in charge of the senju clan tobirama created the shadow clones Edo Tensai flying rygin he cut down izanu Uchiha a mangiko Sharingan wielder and even though cutting down izanu shihad did lead to Mata were getting EMS and becoming even more powerful he was also instrumental in the founding of konoha when matara and hashirama came together the only reason that Madura and hashrama came together is because tobirama actually told hashirama that they should forgive the uchihas for all of the blood of senju they've shed so without Toby Rama we never would have seen the peace between hashram and matara and also without tobirama it's highly possible that hashirama could have lost to matara in their final battle in the Warring States period because after he's in his death tobiramo is now freed up to fight against Madura with hashirama and when hashirama was eventually forced to kill matara after founding konoha and Mata held Toby Rama once again in that battle played a huge role then once again acting in a somewhat advisor role after hashirama and matara came together hasharama wanted to give the Hokage role to matara and it was Toby Rama who said there should be a democratic election so without tobirama acting in that shadow Hokage advisory role matara would have been the First Hokage and that would have gone very poorly but even if you don't consider any of these Feats because they are all before hashrama was truly Hokage obviously they're still the killed modder a bit and then there's the lead up to the first great Shinobi World War see in the battle against Modera modara had used Karama and upon seeing that these tail bees could be controlled and therefore wielded devastatingly huge amounts of power that could be used by humans against each other hashirama decided to catch all of the tail beasts in hashirama wanted to hand out all of these tail beasts to the other villages to make sure that everybody had weapons and everybody found peace while hashirama just wanted to give these tail beasts away for nothing it was Toby Rama who told hashirama we're gonna get paid for it and it was the money from selling those tailed beasts that allowed konoha to come out on top after the conclusion of the first great Shinobi World War because the first great Shinobi world war was arguably the deadliest Shinobi World War out of all of them and actually in the Rune of the first great Shinobi world's War many newly founded Villages found themselves in Dire Straits it had no shinobis their Villages were destroyed and they had no money the reason that konoha got a leg up on everybody and eventually became the strongest Villages obviously the Bloodlines that went into making konowa but also the money they had from selling the tailed beast that allowed them to quickly rebuild and rejuvenate their society so even if you don't consider anything tobirama did before hashirama was actually the Hokage helping kill matara in building a future for konoha even before he himself became a Hokage and instituted some of the biggest change in konowas history is very important but I'd be biased if I said that in those couple of years that he was Shadow Hokage for hashirama he's achieved as much as Sasuke has under two separate hokages for almost like 25 years it's not 25 years it's closer to like 20-ish but you get it because coming in at number one is Sasuke I guess he he does things occasionally he was the shadow Hokage for Kakashi and Naruto he basically single-handedly defeated Shino chiha who was almost in a live moderate level threat he had Naruto were the only people alive who had been able to deal with momushiki and Ken Shiki and especially fused momoshiki he trained boruto and how to create the rossengan which boruto then used to defeat momoshiki and that boruto learned to compress and make invisible just become a massive part of his Arsenal he also trained sarada and how better to use her Sharingan which is gonna make her a Hokage level threat one day for those 20ish years where Kakashi and Naruto or okage he was jumping between Dimensions using his sixth Tomei Rinnegan to track the movements of the yotutsuki without him would have nearly as much of a fundamental understanding of the ototsuki and what their missions are their hierarchy system why they travel in Duos outside of tracking the Suzuki he also tracks Cara finding the baby ten tails and without his preemptive work he probably never would have found kawaki or been as prepared for korres konoha was and on top of all of that he was pretty good at distracting yoshiki for a couple of seconds while Naruto killed off Kurama to activate parion mode even though the only meaningful contributions that Sasuke had during the Shiki fight was getting smashed out of a susano like a rag doll and getting penetrated by more black rods than Riley Reid in a Christmas special and then on top of that obviously in Naruto the last there was a massive part of the Moon that was descending towards the Earth that nobody could destroy it was about to destroy konoha and he single-handedly slice it up with a bunch of his Chidori stream which was pretty sick and then there's obviously the fact that he stumbled upon the ketsegurigon users and the remnants the shinyoke clan there's also the fact of what he's accomplishing in Sasuke retsudon right now where he broke into a prison where a bunch of people were trying to Edo tentai a bunch of dragons to take over a village and he single-handedly well not single-handedly but with the help of Sakura undermines that plot and finds a device that may actually be able to save Naruto's life so that is help Naruto would actually have a chakra disease that wouldn't allow him to use chakra anymore which would have significantly nerfed him before his fight against yishiki and probably would have led to his Shiki taking over the world it's just it's just that you know anybody could have done it really he was just in the position to do it and yeah he's number one okay is that what you want me to say he's the number one shot of Hokage Of All Times congratulations Sasuke you finally did something now you just got to be the number one father of all time but your your bottom 20 at best I don't know man if you liked the video tell me in the comments below if you think my rankings was correct tell me below if you think I should just listen to my biases but tobaram at number one tell me the comments below and while you're down there make sure for me to please like the video subscribe to the page hit that noted Bell I swallowed my pride for this video you better send it to a friend like at least foreign [Music] [Music]\""
      ]
     },
     "execution_count": 20,
     "metadata": {},
     "output_type": "execute_result"
    }
   ],
   "source": [
    "one_transcript = sponsor_df.iloc[0]['Transcript']\n",
    "one_transcript"
   ]
  },
  {
   "cell_type": "code",
   "execution_count": 18,
   "id": "02dc5ee6",
   "metadata": {},
   "outputs": [
    {
     "name": "stdout",
     "output_type": "stream",
     "text": [
      "showing info https://raw.githubusercontent.com/nltk/nltk_data/gh-pages/index.xml\n"
     ]
    },
    {
     "data": {
      "text/plain": [
       "True"
      ]
     },
     "execution_count": 18,
     "metadata": {},
     "output_type": "execute_result"
    }
   ],
   "source": [
    "nltk.download()"
   ]
  },
  {
   "cell_type": "code",
   "execution_count": 19,
   "id": "dc76ccdb",
   "metadata": {},
   "outputs": [
    {
     "ename": "LookupError",
     "evalue": "\n**********************************************************************\n  Resource \u001b[93mwordnet\u001b[0m not found.\n  Please use the NLTK Downloader to obtain the resource:\n\n  \u001b[31m>>> import nltk\n  >>> nltk.download('wordnet')\n  \u001b[0m\n  For more information see: https://www.nltk.org/data.html\n\n  Attempted to load \u001b[93mcorpora/wordnet\u001b[0m\n\n  Searched in:\n    - '/Users/jinlingxing/nltk_data'\n    - '/Users/jinlingxing/Projects/Kaggle/video_sponsorship_detection/venv/nltk_data'\n    - '/Users/jinlingxing/Projects/Kaggle/video_sponsorship_detection/venv/share/nltk_data'\n    - '/Users/jinlingxing/Projects/Kaggle/video_sponsorship_detection/venv/lib/nltk_data'\n    - '/usr/share/nltk_data'\n    - '/usr/local/share/nltk_data'\n    - '/usr/lib/nltk_data'\n    - '/usr/local/lib/nltk_data'\n**********************************************************************\n",
     "output_type": "error",
     "traceback": [
      "\u001b[0;31m---------------------------------------------------------------------------\u001b[0m",
      "\u001b[0;31mLookupError\u001b[0m                               Traceback (most recent call last)",
      "File \u001b[0;32m~/Projects/Kaggle/video_sponsorship_detection/venv/lib/python3.9/site-packages/nltk/corpus/util.py:84\u001b[0m, in \u001b[0;36mLazyCorpusLoader.__load\u001b[0;34m(self)\u001b[0m\n\u001b[1;32m     83\u001b[0m \u001b[38;5;28;01mtry\u001b[39;00m:\n\u001b[0;32m---> 84\u001b[0m     root \u001b[38;5;241m=\u001b[39m \u001b[43mnltk\u001b[49m\u001b[38;5;241;43m.\u001b[39;49m\u001b[43mdata\u001b[49m\u001b[38;5;241;43m.\u001b[39;49m\u001b[43mfind\u001b[49m\u001b[43m(\u001b[49m\u001b[38;5;124;43mf\u001b[39;49m\u001b[38;5;124;43m\"\u001b[39;49m\u001b[38;5;132;43;01m{\u001b[39;49;00m\u001b[38;5;28;43mself\u001b[39;49m\u001b[38;5;241;43m.\u001b[39;49m\u001b[43msubdir\u001b[49m\u001b[38;5;132;43;01m}\u001b[39;49;00m\u001b[38;5;124;43m/\u001b[39;49m\u001b[38;5;132;43;01m{\u001b[39;49;00m\u001b[43mzip_name\u001b[49m\u001b[38;5;132;43;01m}\u001b[39;49;00m\u001b[38;5;124;43m\"\u001b[39;49m\u001b[43m)\u001b[49m\n\u001b[1;32m     85\u001b[0m \u001b[38;5;28;01mexcept\u001b[39;00m \u001b[38;5;167;01mLookupError\u001b[39;00m:\n",
      "File \u001b[0;32m~/Projects/Kaggle/video_sponsorship_detection/venv/lib/python3.9/site-packages/nltk/data.py:583\u001b[0m, in \u001b[0;36mfind\u001b[0;34m(resource_name, paths)\u001b[0m\n\u001b[1;32m    582\u001b[0m resource_not_found \u001b[38;5;241m=\u001b[39m \u001b[38;5;124mf\u001b[39m\u001b[38;5;124m\"\u001b[39m\u001b[38;5;130;01m\\n\u001b[39;00m\u001b[38;5;132;01m{\u001b[39;00msep\u001b[38;5;132;01m}\u001b[39;00m\u001b[38;5;130;01m\\n\u001b[39;00m\u001b[38;5;132;01m{\u001b[39;00mmsg\u001b[38;5;132;01m}\u001b[39;00m\u001b[38;5;130;01m\\n\u001b[39;00m\u001b[38;5;132;01m{\u001b[39;00msep\u001b[38;5;132;01m}\u001b[39;00m\u001b[38;5;130;01m\\n\u001b[39;00m\u001b[38;5;124m\"\u001b[39m\n\u001b[0;32m--> 583\u001b[0m \u001b[38;5;28;01mraise\u001b[39;00m \u001b[38;5;167;01mLookupError\u001b[39;00m(resource_not_found)\n",
      "\u001b[0;31mLookupError\u001b[0m: \n**********************************************************************\n  Resource \u001b[93mwordnet\u001b[0m not found.\n  Please use the NLTK Downloader to obtain the resource:\n\n  \u001b[31m>>> import nltk\n  >>> nltk.download('wordnet')\n  \u001b[0m\n  For more information see: https://www.nltk.org/data.html\n\n  Attempted to load \u001b[93mcorpora/wordnet.zip/wordnet/\u001b[0m\n\n  Searched in:\n    - '/Users/jinlingxing/nltk_data'\n    - '/Users/jinlingxing/Projects/Kaggle/video_sponsorship_detection/venv/nltk_data'\n    - '/Users/jinlingxing/Projects/Kaggle/video_sponsorship_detection/venv/share/nltk_data'\n    - '/Users/jinlingxing/Projects/Kaggle/video_sponsorship_detection/venv/lib/nltk_data'\n    - '/usr/share/nltk_data'\n    - '/usr/local/share/nltk_data'\n    - '/usr/lib/nltk_data'\n    - '/usr/local/lib/nltk_data'\n**********************************************************************\n",
      "\nDuring handling of the above exception, another exception occurred:\n",
      "\u001b[0;31mLookupError\u001b[0m                               Traceback (most recent call last)",
      "Cell \u001b[0;32mIn[19], line 1\u001b[0m\n\u001b[0;32m----> 1\u001b[0m [sponsor_lemma\u001b[38;5;241m.\u001b[39mlemmatize(t) \u001b[38;5;28;01mfor\u001b[39;00m t \u001b[38;5;129;01min\u001b[39;00m one_transcript]\n",
      "Cell \u001b[0;32mIn[19], line 1\u001b[0m, in \u001b[0;36m<listcomp>\u001b[0;34m(.0)\u001b[0m\n\u001b[0;32m----> 1\u001b[0m [\u001b[43msponsor_lemma\u001b[49m\u001b[38;5;241;43m.\u001b[39;49m\u001b[43mlemmatize\u001b[49m\u001b[43m(\u001b[49m\u001b[43mt\u001b[49m\u001b[43m)\u001b[49m \u001b[38;5;28;01mfor\u001b[39;00m t \u001b[38;5;129;01min\u001b[39;00m one_transcript]\n",
      "File \u001b[0;32m~/Projects/Kaggle/video_sponsorship_detection/venv/lib/python3.9/site-packages/nltk/stem/wordnet.py:45\u001b[0m, in \u001b[0;36mWordNetLemmatizer.lemmatize\u001b[0;34m(self, word, pos)\u001b[0m\n\u001b[1;32m     33\u001b[0m \u001b[38;5;28;01mdef\u001b[39;00m \u001b[38;5;21mlemmatize\u001b[39m(\u001b[38;5;28mself\u001b[39m, word: \u001b[38;5;28mstr\u001b[39m, pos: \u001b[38;5;28mstr\u001b[39m \u001b[38;5;241m=\u001b[39m \u001b[38;5;124m\"\u001b[39m\u001b[38;5;124mn\u001b[39m\u001b[38;5;124m\"\u001b[39m) \u001b[38;5;241m-\u001b[39m\u001b[38;5;241m>\u001b[39m \u001b[38;5;28mstr\u001b[39m:\n\u001b[1;32m     34\u001b[0m \u001b[38;5;250m    \u001b[39m\u001b[38;5;124;03m\"\"\"Lemmatize `word` using WordNet's built-in morphy function.\u001b[39;00m\n\u001b[1;32m     35\u001b[0m \u001b[38;5;124;03m    Returns the input word unchanged if it cannot be found in WordNet.\u001b[39;00m\n\u001b[1;32m     36\u001b[0m \n\u001b[0;32m   (...)\u001b[0m\n\u001b[1;32m     43\u001b[0m \u001b[38;5;124;03m    :return: The lemma of `word`, for the given `pos`.\u001b[39;00m\n\u001b[1;32m     44\u001b[0m \u001b[38;5;124;03m    \"\"\"\u001b[39;00m\n\u001b[0;32m---> 45\u001b[0m     lemmas \u001b[38;5;241m=\u001b[39m \u001b[43mwn\u001b[49m\u001b[38;5;241;43m.\u001b[39;49m\u001b[43m_morphy\u001b[49m(word, pos)\n\u001b[1;32m     46\u001b[0m     \u001b[38;5;28;01mreturn\u001b[39;00m \u001b[38;5;28mmin\u001b[39m(lemmas, key\u001b[38;5;241m=\u001b[39m\u001b[38;5;28mlen\u001b[39m) \u001b[38;5;28;01mif\u001b[39;00m lemmas \u001b[38;5;28;01melse\u001b[39;00m word\n",
      "File \u001b[0;32m~/Projects/Kaggle/video_sponsorship_detection/venv/lib/python3.9/site-packages/nltk/corpus/util.py:121\u001b[0m, in \u001b[0;36mLazyCorpusLoader.__getattr__\u001b[0;34m(self, attr)\u001b[0m\n\u001b[1;32m    118\u001b[0m \u001b[38;5;28;01mif\u001b[39;00m attr \u001b[38;5;241m==\u001b[39m \u001b[38;5;124m\"\u001b[39m\u001b[38;5;124m__bases__\u001b[39m\u001b[38;5;124m\"\u001b[39m:\n\u001b[1;32m    119\u001b[0m     \u001b[38;5;28;01mraise\u001b[39;00m \u001b[38;5;167;01mAttributeError\u001b[39;00m(\u001b[38;5;124m\"\u001b[39m\u001b[38;5;124mLazyCorpusLoader object has no attribute \u001b[39m\u001b[38;5;124m'\u001b[39m\u001b[38;5;124m__bases__\u001b[39m\u001b[38;5;124m'\u001b[39m\u001b[38;5;124m\"\u001b[39m)\n\u001b[0;32m--> 121\u001b[0m \u001b[38;5;28;43mself\u001b[39;49m\u001b[38;5;241;43m.\u001b[39;49m\u001b[43m__load\u001b[49m\u001b[43m(\u001b[49m\u001b[43m)\u001b[49m\n\u001b[1;32m    122\u001b[0m \u001b[38;5;66;03m# This looks circular, but its not, since __load() changes our\u001b[39;00m\n\u001b[1;32m    123\u001b[0m \u001b[38;5;66;03m# __class__ to something new:\u001b[39;00m\n\u001b[1;32m    124\u001b[0m \u001b[38;5;28;01mreturn\u001b[39;00m \u001b[38;5;28mgetattr\u001b[39m(\u001b[38;5;28mself\u001b[39m, attr)\n",
      "File \u001b[0;32m~/Projects/Kaggle/video_sponsorship_detection/venv/lib/python3.9/site-packages/nltk/corpus/util.py:86\u001b[0m, in \u001b[0;36mLazyCorpusLoader.__load\u001b[0;34m(self)\u001b[0m\n\u001b[1;32m     84\u001b[0m             root \u001b[38;5;241m=\u001b[39m nltk\u001b[38;5;241m.\u001b[39mdata\u001b[38;5;241m.\u001b[39mfind(\u001b[38;5;124mf\u001b[39m\u001b[38;5;124m\"\u001b[39m\u001b[38;5;132;01m{\u001b[39;00m\u001b[38;5;28mself\u001b[39m\u001b[38;5;241m.\u001b[39msubdir\u001b[38;5;132;01m}\u001b[39;00m\u001b[38;5;124m/\u001b[39m\u001b[38;5;132;01m{\u001b[39;00mzip_name\u001b[38;5;132;01m}\u001b[39;00m\u001b[38;5;124m\"\u001b[39m)\n\u001b[1;32m     85\u001b[0m         \u001b[38;5;28;01mexcept\u001b[39;00m \u001b[38;5;167;01mLookupError\u001b[39;00m:\n\u001b[0;32m---> 86\u001b[0m             \u001b[38;5;28;01mraise\u001b[39;00m e\n\u001b[1;32m     88\u001b[0m \u001b[38;5;66;03m# Load the corpus.\u001b[39;00m\n\u001b[1;32m     89\u001b[0m corpus \u001b[38;5;241m=\u001b[39m \u001b[38;5;28mself\u001b[39m\u001b[38;5;241m.\u001b[39m__reader_cls(root, \u001b[38;5;241m*\u001b[39m\u001b[38;5;28mself\u001b[39m\u001b[38;5;241m.\u001b[39m__args, \u001b[38;5;241m*\u001b[39m\u001b[38;5;241m*\u001b[39m\u001b[38;5;28mself\u001b[39m\u001b[38;5;241m.\u001b[39m__kwargs)\n",
      "File \u001b[0;32m~/Projects/Kaggle/video_sponsorship_detection/venv/lib/python3.9/site-packages/nltk/corpus/util.py:81\u001b[0m, in \u001b[0;36mLazyCorpusLoader.__load\u001b[0;34m(self)\u001b[0m\n\u001b[1;32m     79\u001b[0m \u001b[38;5;28;01melse\u001b[39;00m:\n\u001b[1;32m     80\u001b[0m     \u001b[38;5;28;01mtry\u001b[39;00m:\n\u001b[0;32m---> 81\u001b[0m         root \u001b[38;5;241m=\u001b[39m \u001b[43mnltk\u001b[49m\u001b[38;5;241;43m.\u001b[39;49m\u001b[43mdata\u001b[49m\u001b[38;5;241;43m.\u001b[39;49m\u001b[43mfind\u001b[49m\u001b[43m(\u001b[49m\u001b[38;5;124;43mf\u001b[39;49m\u001b[38;5;124;43m\"\u001b[39;49m\u001b[38;5;132;43;01m{\u001b[39;49;00m\u001b[38;5;28;43mself\u001b[39;49m\u001b[38;5;241;43m.\u001b[39;49m\u001b[43msubdir\u001b[49m\u001b[38;5;132;43;01m}\u001b[39;49;00m\u001b[38;5;124;43m/\u001b[39;49m\u001b[38;5;132;43;01m{\u001b[39;49;00m\u001b[38;5;28;43mself\u001b[39;49m\u001b[38;5;241;43m.\u001b[39;49m\u001b[43m__name\u001b[49m\u001b[38;5;132;43;01m}\u001b[39;49;00m\u001b[38;5;124;43m\"\u001b[39;49m\u001b[43m)\u001b[49m\n\u001b[1;32m     82\u001b[0m     \u001b[38;5;28;01mexcept\u001b[39;00m \u001b[38;5;167;01mLookupError\u001b[39;00m \u001b[38;5;28;01mas\u001b[39;00m e:\n\u001b[1;32m     83\u001b[0m         \u001b[38;5;28;01mtry\u001b[39;00m:\n",
      "File \u001b[0;32m~/Projects/Kaggle/video_sponsorship_detection/venv/lib/python3.9/site-packages/nltk/data.py:583\u001b[0m, in \u001b[0;36mfind\u001b[0;34m(resource_name, paths)\u001b[0m\n\u001b[1;32m    581\u001b[0m sep \u001b[38;5;241m=\u001b[39m \u001b[38;5;124m\"\u001b[39m\u001b[38;5;124m*\u001b[39m\u001b[38;5;124m\"\u001b[39m \u001b[38;5;241m*\u001b[39m \u001b[38;5;241m70\u001b[39m\n\u001b[1;32m    582\u001b[0m resource_not_found \u001b[38;5;241m=\u001b[39m \u001b[38;5;124mf\u001b[39m\u001b[38;5;124m\"\u001b[39m\u001b[38;5;130;01m\\n\u001b[39;00m\u001b[38;5;132;01m{\u001b[39;00msep\u001b[38;5;132;01m}\u001b[39;00m\u001b[38;5;130;01m\\n\u001b[39;00m\u001b[38;5;132;01m{\u001b[39;00mmsg\u001b[38;5;132;01m}\u001b[39;00m\u001b[38;5;130;01m\\n\u001b[39;00m\u001b[38;5;132;01m{\u001b[39;00msep\u001b[38;5;132;01m}\u001b[39;00m\u001b[38;5;130;01m\\n\u001b[39;00m\u001b[38;5;124m\"\u001b[39m\n\u001b[0;32m--> 583\u001b[0m \u001b[38;5;28;01mraise\u001b[39;00m \u001b[38;5;167;01mLookupError\u001b[39;00m(resource_not_found)\n",
      "\u001b[0;31mLookupError\u001b[0m: \n**********************************************************************\n  Resource \u001b[93mwordnet\u001b[0m not found.\n  Please use the NLTK Downloader to obtain the resource:\n\n  \u001b[31m>>> import nltk\n  >>> nltk.download('wordnet')\n  \u001b[0m\n  For more information see: https://www.nltk.org/data.html\n\n  Attempted to load \u001b[93mcorpora/wordnet\u001b[0m\n\n  Searched in:\n    - '/Users/jinlingxing/nltk_data'\n    - '/Users/jinlingxing/Projects/Kaggle/video_sponsorship_detection/venv/nltk_data'\n    - '/Users/jinlingxing/Projects/Kaggle/video_sponsorship_detection/venv/share/nltk_data'\n    - '/Users/jinlingxing/Projects/Kaggle/video_sponsorship_detection/venv/lib/nltk_data'\n    - '/usr/share/nltk_data'\n    - '/usr/local/share/nltk_data'\n    - '/usr/lib/nltk_data'\n    - '/usr/local/lib/nltk_data'\n**********************************************************************\n"
     ]
    }
   ],
   "source": [
    "[sponsor_lemma.lemmatize(t) for t in one_transcript]"
   ]
  },
  {
   "cell_type": "code",
   "execution_count": null,
   "id": "d20b41ac",
   "metadata": {},
   "outputs": [],
   "source": []
  }
 ],
 "metadata": {
  "kernelspec": {
   "display_name": "Python 3 (ipykernel)",
   "language": "python",
   "name": "python3"
  },
  "language_info": {
   "codemirror_mode": {
    "name": "ipython",
    "version": 3
   },
   "file_extension": ".py",
   "mimetype": "text/x-python",
   "name": "python",
   "nbconvert_exporter": "python",
   "pygments_lexer": "ipython3",
   "version": "3.9.6"
  }
 },
 "nbformat": 4,
 "nbformat_minor": 5
}
